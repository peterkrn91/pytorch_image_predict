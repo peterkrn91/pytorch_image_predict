{
  "cells": [
    {
      "cell_type": "markdown",
      "metadata": {
        "id": "n_FJJhPNQRPW"
      },
      "source": [
        "## PyTorch Image Prediction (with Convolutional Neural Network)"
      ]
    },
    {
      "cell_type": "markdown",
      "metadata": {
        "id": "KXLWdwqIQWzs"
      },
      "source": [
        "### Implementing Tensor"
      ]
    },
    {
      "cell_type": "markdown",
      "metadata": {},
      "source": [
        "#### Import Libraries"
      ]
    },
    {
      "cell_type": "code",
      "execution_count": null,
      "metadata": {
        "colab": {
          "base_uri": "https://localhost:8080/"
        },
        "id": "y1iJMxo65uQ8",
        "outputId": "189fcec8-45d8-4ce7-f8eb-caeac6a7c499"
      },
      "outputs": [],
      "source": [
        "from torchvision import datasets\n",
        "from torchvision.transforms import ToTensor\n",
        "import matplotlib.pyplot as plt\n",
        "import torch\n",
        "import torch.nn as nn\n",
        "import torch.optim as optim\n",
        "import torchvision"
      ]
    },
    {
      "cell_type": "code",
      "execution_count": null,
      "metadata": {},
      "outputs": [],
      "source": [
        "training_data = datasets.MNIST(root=\".\", train=True, download=True, transform=ToTensor())\n",
        "# training_data = datasets.FashionMNIST(root=\".\", train=True, download=True, transform=ToTensor())\n",
        "\n",
        "test_data = datasets.MNIST(root=\".\", train=False, download=True, transform=ToTensor())\n",
        "# test_data = datasets.FashionMNIST(root=\".\", train=False, download=True, transform=ToTensor())"
      ]
    },
    {
      "cell_type": "code",
      "execution_count": null,
      "metadata": {
        "colab": {
          "base_uri": "https://localhost:8080/"
        },
        "id": "bF_cTj2PT5Kj",
        "outputId": "6bca396a-1d79-4f10-bde0-097aa342dcad"
      },
      "outputs": [],
      "source": [
        "print(torchvision.__version__)"
      ]
    },
    {
      "cell_type": "code",
      "execution_count": null,
      "metadata": {
        "colab": {
          "base_uri": "https://localhost:8080/"
        },
        "id": "pPahFIHV6ZZB",
        "outputId": "6bdf03fd-8ebd-4f00-acba-f80e62684b79"
      },
      "outputs": [],
      "source": [
        "training_data.classes"
      ]
    },
    {
      "cell_type": "code",
      "execution_count": null,
      "metadata": {
        "id": "WkBLmiMQ6cmw"
      },
      "outputs": [],
      "source": [
        "from torch.utils.data import DataLoader\n",
        "\n",
        "batch_size = 32\n",
        "\n",
        "loaded_train = DataLoader(training_data, batch_size=batch_size, shuffle=True)\n",
        "loaded_test = DataLoader(test_data, batch_size=batch_size, shuffle=True)"
      ]
    },
    {
      "cell_type": "markdown",
      "metadata": {},
      "source": [
        "### Creating Neural Network Model"
      ]
    },
    {
      "cell_type": "code",
      "execution_count": null,
      "metadata": {
        "id": "nHQdFIkAoAhG"
      },
      "outputs": [],
      "source": [
        "class MNISTModel(nn.Module):\n",
        "    def __init__(self):\n",
        "        super().__init__()\n",
        "        # Convolutional Layers\n",
        "        self.conv1 = nn.Conv2d(1, 32, kernel_size=3, stride=1, padding=1)  # Input 1x28x28, Output 32x28x28\n",
        "        self.act1 = nn.ReLU()\n",
        "        self.pool1 = nn.MaxPool2d(kernel_size=2, stride=2)  # Output 32x14x14\n",
        "\n",
        "        self.conv2 = nn.Conv2d(32, 64, kernel_size=3, stride=1, padding=1)  # Input 32x14x14, Output 64x14x14\n",
        "        self.act2 = nn.ReLU()\n",
        "        self.pool2 = nn.MaxPool2d(kernel_size=2, stride=2)  # Output 64x7x7\n",
        "\n",
        "        # Fully Connected Layers\n",
        "        self.fc1 = nn.Linear(64 * 7 * 7, 512)  # Input 64*7*7=3136, Output 512\n",
        "        self.act3 = nn.ReLU()\n",
        "        self.fc2 = nn.Linear(512, 10)  # Input 512, Output 10 (number of classes)\n",
        "\n",
        "    def forward(self, x):\n",
        "        x = self.pool1(self.act1(self.conv1(x)))\n",
        "        x = self.pool2(self.act2(self.conv2(x)))\n",
        "        x = torch.flatten(x, 1)  # Flatten all dimensions except batch\n",
        "        x = self.act3(self.fc1(x))\n",
        "        x = self.fc2(x)\n",
        "        return x"
      ]
    },
    {
      "cell_type": "code",
      "execution_count": null,
      "metadata": {
        "colab": {
          "base_uri": "https://localhost:8080/"
        },
        "id": "2GN2OHb16jyL",
        "outputId": "a1c9f347-eb38-459c-84c6-a83733405558"
      },
      "outputs": [],
      "source": [
        "model = MNISTModel()\n",
        "print(model)"
      ]
    },
    {
      "cell_type": "code",
      "execution_count": null,
      "metadata": {
        "id": "oS9T0N856m01"
      },
      "outputs": [],
      "source": [
        "loss_function = nn.CrossEntropyLoss()\n",
        "optimizer = torch.optim.SGD(model.parameters(), lr=0.001)"
      ]
    },
    {
      "cell_type": "markdown",
      "metadata": {},
      "source": [
        "### Train & Test Model"
      ]
    },
    {
      "cell_type": "code",
      "execution_count": null,
      "metadata": {
        "id": "LamdF1Ds6qTQ"
      },
      "outputs": [],
      "source": [
        "def train(dataloader, model, loss_fn, optimizer):\n",
        "    size = len(dataloader.dataset)\n",
        "\n",
        "    for batch_idx, (X, y) in enumerate(dataloader):\n",
        "        pred = model(X)\n",
        "        loss = loss_fn(pred, y)\n",
        "\n",
        "        optimizer.zero_grad()\n",
        "        loss.backward()\n",
        "        optimizer.step()\n",
        "\n",
        "        if batch_idx % 100 == 0:\n",
        "            current = batch_idx * len(X)\n",
        "            print(f\"Loss: {loss.item():.6f}  [{current}/{size}]\")\n",
        "\n",
        "    print(\"Training complete!\")"
      ]
    },
    {
      "cell_type": "code",
      "execution_count": null,
      "metadata": {
        "colab": {
          "base_uri": "https://localhost:8080/"
        },
        "id": "v1ca66KB6zVd",
        "outputId": "ffd538dd-765e-4335-98a6-ee63d4edf3aa"
      },
      "outputs": [],
      "source": [
        "def test(dataloader, model, loss_fn):\n",
        "    size = len(dataloader.dataset)\n",
        "    num_batches = len(dataloader)\n",
        "    test_loss, correct = 0, 0\n",
        "\n",
        "    with torch.no_grad():\n",
        "        for X, y in dataloader:\n",
        "            pred = model(X)\n",
        "            test_loss += loss_fn(pred, y).item()\n",
        "            correct += (pred.argmax(1) == y).type(torch.float).sum().item()\n",
        "\n",
        "    test_loss /= num_batches\n",
        "    correct /= size\n",
        "    print(f\"Accuracy: {(100*correct):>0.1f}\")\n",
        "epochs = 1\n",
        "for t in range(epochs):\n",
        "    print(f\"Epoch {t+1}\\n-------------------------------\")\n",
        "    train(loaded_train, model, loss_function, optimizer)\n",
        "    test(loaded_test, model, loss_function)\n",
        "print(\"Done!\")"
      ]
    },
    {
      "cell_type": "markdown",
      "metadata": {
        "id": "euOm0Gzvv2sY"
      },
      "source": [
        "### Save Model"
      ]
    },
    {
      "cell_type": "code",
      "execution_count": null,
      "metadata": {
        "id": "gmHDZ7IEv2Ds"
      },
      "outputs": [],
      "source": [
        "torch.save(model.state_dict(), 'cpu_trained_model.pth')"
      ]
    },
    {
      "cell_type": "markdown",
      "metadata": {
        "id": "D2x1qjkaRtQA"
      },
      "source": [
        "# PyTorch in Web App with Flask"
      ]
    },
    {
      "cell_type": "code",
      "execution_count": null,
      "metadata": {
        "colab": {
          "base_uri": "https://localhost:8080/"
        },
        "id": "yHHRW7vcR7BA",
        "outputId": "b2fc9757-49ee-4ec3-bbda-a0b7a5afd5af"
      },
      "outputs": [],
      "source": [
        "import torch\n",
        "\n",
        "print(torch.__version__)"
      ]
    },
    {
      "cell_type": "markdown",
      "metadata": {
        "id": "ymeRktUbVVGI"
      },
      "source": [
        "### Import Python's Flask Library"
      ]
    },
    {
      "cell_type": "code",
      "execution_count": null,
      "metadata": {
        "colab": {
          "base_uri": "https://localhost:8080/"
        },
        "id": "CA2ZkKaaCs-f",
        "outputId": "37e0f61f-61b5-4bbc-b6b7-90fe96a02367"
      },
      "outputs": [],
      "source": [
        "from flask import Flask, render_template, request\n",
        "from PIL import Image\n",
        "from io import BytesIO\n",
        "import torch\n",
        "from torchvision.transforms import ToTensor"
      ]
    },
    {
      "cell_type": "markdown",
      "metadata": {},
      "source": [
        "### Model pre-trained in Local/VSCode (epochs=1, accuracy>60%)"
      ]
    },
    {
      "cell_type": "code",
      "execution_count": null,
      "metadata": {},
      "outputs": [],
      "source": [
        "# Load your trained model\n",
        "model = MNISTModel()\n",
        "\n",
        "print(model)"
      ]
    },
    {
      "cell_type": "markdown",
      "metadata": {},
      "source": [
        "### Model pre-trained in Google Colab (epochs=5, accuracy>90%)"
      ]
    },
    {
      "cell_type": "code",
      "execution_count": null,
      "metadata": {},
      "outputs": [],
      "source": [
        "# Load Trained Model\n",
        "\n",
        "device = torch.device('cpu')\n",
        "model = MNISTModel()\n",
        "\n",
        "PATH = 'trained_model_acc_90.pth'\n",
        "model.load_state_dict(torch.load(PATH, map_location=device))"
      ]
    },
    {
      "cell_type": "markdown",
      "metadata": {},
      "source": [
        "### Flask Back-End"
      ]
    },
    {
      "cell_type": "code",
      "execution_count": null,
      "metadata": {},
      "outputs": [],
      "source": [
        "from flask import Flask, render_template, request\n",
        "from PIL import Image\n",
        "from torchvision.transforms import ToTensor\n",
        "from io import BytesIO\n",
        "import torch\n",
        "\n",
        "app = Flask(__name__, template_folder='templates', static_url_path='/static')\n",
        "\n",
        "def initialize_flask_app():\n",
        "    # Define route (endpoint) for home page\n",
        "    @app.route('/', methods=['GET'])\n",
        "    def home():\n",
        "        return render_template('index.html')\n",
        "\n",
        "    # Define route (endpoint) for handling image upload and prediction\n",
        "    @app.route('/predict', methods=['POST'])\n",
        "    def predict():\n",
        "        if 'image' in request.files:\n",
        "            # Read and preprocess the uploaded image\n",
        "            img = Image.open(BytesIO(request.files['image'].read()))\n",
        "            img = img.convert('L')  # Convert to grayscale\n",
        "            img = img.resize((28, 28))  # Resize image to 28x28\n",
        "            img = ToTensor()(img).unsqueeze(0)  # Convert to tensor and add batch dimension\n",
        "\n",
        "            # Perform prediction using your model\n",
        "            with torch.no_grad():\n",
        "                output = model(img)\n",
        "                _, predicted = torch.max(output, 1)\n",
        "                prediction = predicted.item()\n",
        "\n",
        "            return render_template('result.html', prediction=prediction)\n",
        "        else:\n",
        "            return 'Error: No image provided.'\n",
        "\n",
        "    # Run the Flask app\n",
        "    if __name__ == '__main__':\n",
        "        app.run()\n",
        "\n",
        "if __name__ == '__main__':\n",
        "    initialize_flask_app()\n"
      ]
    }
  ],
  "metadata": {
    "accelerator": "GPU",
    "colab": {
      "gpuType": "T4",
      "provenance": []
    },
    "kernelspec": {
      "display_name": "Python 3",
      "name": "python3"
    },
    "language_info": {
      "codemirror_mode": {
        "name": "ipython",
        "version": 3
      },
      "file_extension": ".py",
      "mimetype": "text/x-python",
      "name": "python",
      "nbconvert_exporter": "python",
      "pygments_lexer": "ipython3",
      "version": "3.10.11"
    }
  },
  "nbformat": 4,
  "nbformat_minor": 0
}
